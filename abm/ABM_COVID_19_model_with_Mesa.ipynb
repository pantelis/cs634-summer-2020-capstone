{
  "nbformat": 4,
  "nbformat_minor": 0,
  "metadata": {
    "kernelspec": {
      "display_name": "Python 3",
      "language": "python",
      "name": "python3"
    },
    "language_info": {
      "codemirror_mode": {
        "name": "ipython",
        "version": 3
      },
      "file_extension": ".py",
      "mimetype": "text/x-python",
      "name": "python",
      "nbconvert_exporter": "python",
      "pygments_lexer": "ipython3",
      "version": "3.7.5"
    },
    "colab": {
      "name": "ABM COVID-19 model with Mesa.ipynb",
      "provenance": []
    }
  },
  "cells": [
    {
      "cell_type": "markdown",
      "metadata": {
        "id": "MoI5jq01zsqv",
        "colab_type": "text"
      },
      "source": [
        "# ABM COVID-19 model with Mesa\n"
      ]
    },
    {
      "cell_type": "code",
      "metadata": {
        "id": "0snCOtK_z-6E",
        "colab_type": "code",
        "colab": {}
      },
      "source": [
        "%pip install mesa"
      ],
      "execution_count": null,
      "outputs": []
    },
    {
      "cell_type": "code",
      "metadata": {
        "id": "cX-0apnyzsqy",
        "colab_type": "code",
        "colab": {}
      },
      "source": [
        "import time, enum\n",
        "import numpy as np\n",
        "import pandas as pd\n",
        "import pylab as plt\n",
        "from mesa import Agent, Model\n",
        "from mesa.time import RandomActivation\n",
        "from mesa.space import MultiGrid\n",
        "from mesa.datacollection import DataCollector"
      ],
      "execution_count": null,
      "outputs": []
    },
    {
      "cell_type": "code",
      "metadata": {
        "id": "gV-IpzkfzsrL",
        "colab_type": "code",
        "colab": {}
      },
      "source": [
        "class State(enum.IntEnum):\n",
        "    SUSCEPTIBLE = 0\n",
        "    INFECTED = 1\n",
        "    REMOVED = 2"
      ],
      "execution_count": null,
      "outputs": []
    },
    {
      "cell_type": "markdown",
      "metadata": {
        "id": "uAsNX-zizsrU",
        "colab_type": "text"
      },
      "source": [
        "## Define an agent class"
      ]
    },
    {
      "cell_type": "code",
      "metadata": {
        "id": "yCMFFez0zsrW",
        "colab_type": "code",
        "colab": {}
      },
      "source": [
        "class MyAgent(Agent):\n",
        "    \"\"\" An agent in an epidemic model.\"\"\"\n",
        "    def __init__(self, unique_id, model):\n",
        "        super().__init__(unique_id, model)\n",
        "        self.age = self.random.normalvariate(20,40)        \n",
        "        self.state = State.SUSCEPTIBLE  \n",
        "        self.infection_time = 0\n",
        "\n",
        "    def move(self):\n",
        "        \"\"\"Move the agent\"\"\"\n",
        "\n",
        "        possible_steps = self.model.grid.get_neighborhood(\n",
        "            self.pos,\n",
        "            moore=True,\n",
        "            include_center=False)\n",
        "        new_position = self.random.choice(possible_steps)\n",
        "        self.model.grid.move_agent(self, new_position)\n",
        "\n",
        "    def status(self):\n",
        "        \"\"\"Check infection status\"\"\"\n",
        "        \n",
        "        if self.state == State.INFECTED:     \n",
        "            drate = self.model.death_rate\n",
        "            alive = np.random.choice([0,1], p=[drate,1-drate])\n",
        "            if alive == 0:\n",
        "                self.model.schedule.remove(self)            \n",
        "            t = self.model.schedule.time-self.infection_time\n",
        "            if t >= self.recovery_time:          \n",
        "                self.state = State.REMOVED\n",
        "            #print (self.model.schedule.time,self.recovery_time,t)\n",
        "\n",
        "    def contact(self):\n",
        "        \"\"\"Find close contacts and infect\"\"\"\n",
        "        \n",
        "        cellmates = self.model.grid.get_cell_list_contents([self.pos])       \n",
        "        if len(cellmates) > 1:\n",
        "            #other = self.random.choice(cellmates)\n",
        "            for other in cellmates:\n",
        "                #print (self.model.schedule.time,self.state,other.state)                \n",
        "                if self.random.random() > model.ptrans:\n",
        "                    continue\n",
        "                if self.state is State.INFECTED and other.state is State.SUSCEPTIBLE:                    \n",
        "                    other.state = State.INFECTED\n",
        "                    other.infection_time = self.model.schedule.time\n",
        "                    other.recovery_time = model.get_recovery_time()\n",
        "                \n",
        "    def step(self):\n",
        "        self.status()\n",
        "        self.move()\n",
        "        self.contact()\n"
      ],
      "execution_count": null,
      "outputs": []
    },
    {
      "cell_type": "markdown",
      "metadata": {
        "id": "20tB9-YGzsrd",
        "colab_type": "text"
      },
      "source": [
        "## Model class"
      ]
    },
    {
      "cell_type": "code",
      "metadata": {
        "id": "nwjJ-MIQzsre",
        "colab_type": "code",
        "colab": {}
      },
      "source": [
        "class InfectionModel(Model):\n",
        "    \"\"\"A model for infection spread.\"\"\"\n",
        "    \n",
        "    def __init__(self, N=10, width=10, height=10, ptrans=0.5, \n",
        "                 progression_period=3, progression_sd=2, death_rate=0.0193, recovery_days=21,\n",
        "                 recovery_sd=7):\n",
        "        \n",
        "        self.num_agents = N\n",
        "        self.initial_outbreak_size = 1\n",
        "        self.recovery_days = recovery_days\n",
        "        self.recovery_sd = recovery_sd\n",
        "        self.ptrans = ptrans\n",
        "        self.death_rate = death_rate\n",
        "        self.grid = MultiGrid(width, height, True)\n",
        "        self.schedule = RandomActivation(self)\n",
        "        self.running = True\n",
        "        self.dead_agents = []\n",
        "        # Create agents\n",
        "        for i in range(self.num_agents):\n",
        "            a = MyAgent(i, self)\n",
        "            self.schedule.add(a)\n",
        "            # Add the agent to a random grid cell\n",
        "            x = self.random.randrange(self.grid.width)\n",
        "            y = self.random.randrange(self.grid.height)\n",
        "            self.grid.place_agent(a, (x, y))\n",
        "            #make some agents infected at start\n",
        "            infected = np.random.choice([0,1], p=[0.98,0.02])\n",
        "            if infected == 1:\n",
        "                a.state = State.INFECTED\n",
        "                a.recovery_time = self.get_recovery_time()\n",
        "            \n",
        "        self.datacollector = DataCollector(\n",
        "            #model_reporters={\"Gini\": compute_gini}, \n",
        "            agent_reporters={\"State\": \"state\"})\n",
        "\n",
        "    def get_recovery_time(self):\n",
        "        return int(self.random.normalvariate(self.recovery_days,self.recovery_sd))\n",
        "    \n",
        "    def step(self):\n",
        "        self.datacollector.collect(self)\n",
        "        self.schedule.step()\n"
      ],
      "execution_count": null,
      "outputs": []
    },
    {
      "cell_type": "code",
      "metadata": {
        "id": "J-2QDasjzsrl",
        "colab_type": "code",
        "colab": {}
      },
      "source": [
        "def get_column_data(model):\n",
        "    #pivot the model dataframe to get states count at each step\n",
        "    agent_state = model.datacollector.get_agent_vars_dataframe()\n",
        "    X = pd.pivot_table(agent_state.reset_index(),index='Step',columns='State',aggfunc=np.size,fill_value=0)    \n",
        "    labels = ['Susceptible','Infected','Removed']\n",
        "    X.columns = labels[:len(X.columns)]\n",
        "    return X\n",
        "    \n",
        "def plot_states(model,ax):    \n",
        "    steps = model.schedule.steps\n",
        "    X = get_column_data(model)\n",
        "    X.plot(ax=ax,lw=3,alpha=0.8)"
      ],
      "execution_count": null,
      "outputs": []
    },
    {
      "cell_type": "code",
      "metadata": {
        "id": "CkA9mX8Szsrr",
        "colab_type": "code",
        "colab": {}
      },
      "source": [
        "pop=3000\n",
        "steps=50\n",
        "st=time.time()\n",
        "model = InfectionModel(pop, 20, 20, ptrans=0.5)\n",
        "for i in range(steps):\n",
        "    model.step()\n",
        "print (time.time()-st)\n",
        "agent_state = model.datacollector.get_agent_vars_dataframe()\n",
        "print (get_column_data(model))"
      ],
      "execution_count": null,
      "outputs": []
    },
    {
      "cell_type": "code",
      "metadata": {
        "id": "gOuKXoMqzsrz",
        "colab_type": "code",
        "colab": {
          "base_uri": "https://localhost:8080/",
          "height": 279
        },
        "outputId": "3394e5bc-5976-4c68-d15b-42e9e3434a8e"
      },
      "source": [
        "f,ax=plt.subplots(1,1,figsize=(8,4))\n",
        "plot_states(model,ax)\n",
        "plt.savefig('SIR.png',dpi=150)"
      ],
      "execution_count": null,
      "outputs": [
        {
          "output_type": "display_data",
          "data": {
            "image/png": "[encoded data removed]",
            "text/plain": [
              "<Figure size 576x288 with 1 Axes>"
            ]
          },
          "metadata": {
            "tags": [],
            "needs_background": "light"
          }
        }
      ]
    },
    {
      "cell_type": "markdown",
      "metadata": {
        "id": "IEaHH63yzssT",
        "colab_type": "text"
      },
      "source": [
        "## Explore parameters "
      ]
    },
    {
      "cell_type": "code",
      "metadata": {
        "id": "RwwL44S4zssU",
        "colab_type": "code",
        "colab": {
          "base_uri": "https://localhost:8080/",
          "height": 34
        },
        "outputId": "5f384fc0-51a1-4451-aaa8-1955aa84a9c5"
      },
      "source": [
        "def compute_max_infections(model):\n",
        "    X=get_column_data(model)\n",
        "    try:\n",
        "        return X.Infected.max()\n",
        "    except:\n",
        "        return 0\n",
        "\n",
        "compute_max_infections(model) "
      ],
      "execution_count": null,
      "outputs": [
        {
          "output_type": "execute_result",
          "data": {
            "text/plain": [
              "167"
            ]
          },
          "metadata": {
            "tags": []
          },
          "execution_count": 25
        }
      ]
    },
    {
      "cell_type": "code",
      "metadata": {
        "id": "i3HWrybZzssY",
        "colab_type": "code",
        "colab": {
          "base_uri": "https://localhost:8080/",
          "height": 34
        },
        "outputId": "b43242fd-ad50-49c5-ac6c-e15b1d154d97"
      },
      "source": [
        "from mesa.batchrunner import BatchRunner\n",
        "fixed_params = {\n",
        "    \"width\": 20,\n",
        "    \"height\": 20,\n",
        "    \"N\": 300,\n",
        "}\n",
        "#variable_params = {\"N\": range(20, 200, 10)}\n",
        "variable_params = {\"ptrans\": np.arange(.05, .9, .1)}\n",
        "batch_run = BatchRunner(\n",
        "    InfectionModel,\n",
        "    variable_params,\n",
        "    fixed_params,\n",
        "    iterations=3,\n",
        "    max_steps=100,\n",
        "    model_reporters={\"Inf\": compute_max_infections}\n",
        ")\n",
        "\n",
        "batch_run.run_all()"
      ],
      "execution_count": null,
      "outputs": [
        {
          "output_type": "stream",
          "text": [
            "27it [00:26,  1.02it/s]\n"
          ],
          "name": "stderr"
        }
      ]
    },
    {
      "cell_type": "code",
      "metadata": {
        "id": "kuwDjWhEzssc",
        "colab_type": "code",
        "colab": {
          "base_uri": "https://localhost:8080/",
          "height": 282
        },
        "outputId": "573fcb2b-46e0-4b05-cbc3-147668e3c269"
      },
      "source": [
        "run_data = batch_run.get_model_vars_dataframe()\n",
        "#run_data#.head()\n",
        "plt.scatter(run_data.ptrans, run_data.Inf)"
      ],
      "execution_count": null,
      "outputs": [
        {
          "output_type": "execute_result",
          "data": {
            "text/plain": [
              "<matplotlib.collections.PathCollection at 0x7fe4e393cc50>"
            ]
          },
          "metadata": {
            "tags": []
          },
          "execution_count": 22
        },
        {
          "output_type": "display_data",
          "data": {
            "image/png": "[encoded data removed]",
            "text/plain": [
              "<Figure size 432x288 with 1 Axes>"
            ]
          },
          "metadata": {
            "tags": [],
            "needs_background": "light"
          }
        }
      ]
    }
  ]
}