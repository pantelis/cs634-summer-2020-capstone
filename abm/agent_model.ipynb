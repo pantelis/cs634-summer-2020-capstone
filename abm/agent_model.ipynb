{
  "nbformat": 4,
  "nbformat_minor": 0,
  "metadata": {
    "colab": {
      "name": "Copy of agent_model.ipynb",
      "provenance": [],
      "collapsed_sections": []
    },
    "kernelspec": {
      "name": "python3",
      "display_name": "Python 3"
    }
  },
  "cells": [
    {
      "cell_type": "code",
      "metadata": {
        "id": "hOn5SFNnSUTX",
        "colab_type": "code",
        "colab": {
          "base_uri": "https://localhost:8080/",
          "height": 450
        },
        "outputId": "4c19abf3-59c0-4365-d8b8-3cd06c8be4bb"
      },
      "source": [
        "pip install mesa"
      ],
      "execution_count": null,
      "outputs": [
        {
          "output_type": "stream",
          "text": [
            "Requirement already satisfied: mesa in /usr/local/lib/python3.6/dist-packages (0.8.7)\n",
            "Requirement already satisfied: numpy in /usr/local/lib/python3.6/dist-packages (from mesa) (1.18.5)\n",
            "Requirement already satisfied: cookiecutter in /usr/local/lib/python3.6/dist-packages (from mesa) (1.7.2)\n",
            "Requirement already satisfied: tqdm in /usr/local/lib/python3.6/dist-packages (from mesa) (4.41.1)\n",
            "Requirement already satisfied: pandas in /usr/local/lib/python3.6/dist-packages (from mesa) (1.0.5)\n",
            "Requirement already satisfied: tornado in /usr/local/lib/python3.6/dist-packages (from mesa) (4.5.3)\n",
            "Requirement already satisfied: networkx in /usr/local/lib/python3.6/dist-packages (from mesa) (2.4)\n",
            "Requirement already satisfied: click in /usr/local/lib/python3.6/dist-packages (from mesa) (7.1.2)\n",
            "Requirement already satisfied: jinja2-time>=0.2.0 in /usr/local/lib/python3.6/dist-packages (from cookiecutter->mesa) (0.2.0)\n",
            "Requirement already satisfied: MarkupSafe<2.0.0 in /usr/local/lib/python3.6/dist-packages (from cookiecutter->mesa) (1.1.1)\n",
            "Requirement already satisfied: python-slugify>=4.0.0 in /usr/local/lib/python3.6/dist-packages (from cookiecutter->mesa) (4.0.1)\n",
            "Requirement already satisfied: six>=1.10 in /usr/local/lib/python3.6/dist-packages (from cookiecutter->mesa) (1.15.0)\n",
            "Requirement already satisfied: requests>=2.23.0 in /usr/local/lib/python3.6/dist-packages (from cookiecutter->mesa) (2.23.0)\n",
            "Requirement already satisfied: Jinja2<3.0.0 in /usr/local/lib/python3.6/dist-packages (from cookiecutter->mesa) (2.11.2)\n",
            "Requirement already satisfied: poyo>=0.5.0 in /usr/local/lib/python3.6/dist-packages (from cookiecutter->mesa) (0.5.0)\n",
            "Requirement already satisfied: binaryornot>=0.4.4 in /usr/local/lib/python3.6/dist-packages (from cookiecutter->mesa) (0.4.4)\n",
            "Requirement already satisfied: pytz>=2017.2 in /usr/local/lib/python3.6/dist-packages (from pandas->mesa) (2018.9)\n",
            "Requirement already satisfied: python-dateutil>=2.6.1 in /usr/local/lib/python3.6/dist-packages (from pandas->mesa) (2.8.1)\n",
            "Requirement already satisfied: decorator>=4.3.0 in /usr/local/lib/python3.6/dist-packages (from networkx->mesa) (4.4.2)\n",
            "Requirement already satisfied: arrow in /usr/local/lib/python3.6/dist-packages (from jinja2-time>=0.2.0->cookiecutter->mesa) (0.15.7)\n",
            "Requirement already satisfied: text-unidecode>=1.3 in /usr/local/lib/python3.6/dist-packages (from python-slugify>=4.0.0->cookiecutter->mesa) (1.3)\n",
            "Requirement already satisfied: urllib3!=1.25.0,!=1.25.1,<1.26,>=1.21.1 in /usr/local/lib/python3.6/dist-packages (from requests>=2.23.0->cookiecutter->mesa) (1.24.3)\n",
            "Requirement already satisfied: idna<3,>=2.5 in /usr/local/lib/python3.6/dist-packages (from requests>=2.23.0->cookiecutter->mesa) (2.10)\n",
            "Requirement already satisfied: certifi>=2017.4.17 in /usr/local/lib/python3.6/dist-packages (from requests>=2.23.0->cookiecutter->mesa) (2020.6.20)\n",
            "Requirement already satisfied: chardet<4,>=3.0.2 in /usr/local/lib/python3.6/dist-packages (from requests>=2.23.0->cookiecutter->mesa) (3.0.4)\n"
          ],
          "name": "stdout"
        }
      ]
    },
    {
      "cell_type": "code",
      "metadata": {
        "id": "jvBq8zvLSj7j",
        "colab_type": "code",
        "colab": {}
      },
      "source": [
        "\n",
        "from mesa import Agent, Model\n",
        "from mesa.time import RandomActivation\n",
        "from mesa.datacollection import DataCollector\n",
        "from mesa.space import MultiGrid\n",
        "import random\n",
        "\n",
        "def compute_infection(model):\n",
        "    agent_healths = [agent.healthStat for agent in model.schedule.agents]\n",
        "    infected_count = agent_healths.count(\"Infected\")\n",
        "    return infected_count\n",
        "\n",
        "class RiderAgent(Agent):\n",
        "    \"\"\" An agent with ID, Source, Destination, RequestTimeHour & HealthStat.\"\"\"\n",
        "    \n",
        "    def __init__(self, unique_id, model):\n",
        "        super().__init__(unique_id, model)\n",
        "        self.wealth = 1\n",
        "       # self.source = random.randint(1,2501)\n",
        "        self.destination = random.randint(1,2501)\n",
        "        self.requestTime = random.randint(0,23)\n",
        "        self.healthStat = 'Healthy' #getRiderHealthState()\n",
        "        self.gridHealthStat = 'Safe' #getGridHealthState()\n",
        "        self.rideApproved = -1\n",
        "\n",
        "    def getRiderHealthState(self):\n",
        "           health_state = ['Suspectible', 'Infected', 'Recovered', 'Healthy' ]\n",
        "           return random.choices(health_state, weights=(20,20,10,50),k=1)[0]\n",
        "\n",
        "    def getGridHealthState(self):\n",
        "          grid_health_state = ['Safe', 'Unsafe']\n",
        "          return random.choices(grid_health_state, weights=(80,20),k=1)[0]\n",
        "\n",
        "    def getRideApproval(self):\n",
        "        if self.healthStat=='Healthy':\n",
        "          if self.gridHealthStat == 'Safe':\n",
        "              return 0\n",
        "\n",
        "    def step(self):\n",
        "        # The agent's step will go here.\n",
        "        # For demonstration purposes we will print the agent's unique_id\n",
        "        self.healthStat = self.getRiderHealthState()\n",
        "        #print (\"Hi, I am rider \" + str(self.unique_id))\n",
        "        #print(vars(self)) \n",
        "        if self.wealth == 0:\n",
        "          return\n",
        "        other_agent = self.random.choice(self.model.schedule.agents)\n",
        "        other_agent.wealth += 1\n",
        "        self.wealth -= 1\n",
        "\n",
        "        ## Get Deatination grid from Mobility Controller\n",
        "        #self.destination = random.randint(1,2501)\n",
        "        ## Get Health Stat for destination grid from Epidemiological Model\n",
        "        self.gridHealthStat = self.getGridHealthState()\n",
        "        ## Get the ride approved from controller\n",
        "        self.rideApproved = self.getRideApproval()\n",
        "        if self.rideApproved == 0:\n",
        "          y = self.destination // 50\n",
        "          #y -= 1\n",
        "          x = self.destination % 50\n",
        "          newPos = x,y\n",
        "          #newPos = self.destination\n",
        "          self.model.grid.move_agent(self, newPos)\n",
        "        ## Get Health Stat for rider from Epidemiological Model\n",
        "        self.healthStat = self.getRiderHealthState()\n",
        "        #print (\"Hi, I am rider \" + str(self.unique_id))\n",
        "        #pprint(vars(self)) \n",
        "\n",
        "class RiderModel(Model):\n",
        "    \"\"\"A model with some number of agents.\"\"\"\n",
        "    def __init__(self, N, width, height):\n",
        "        self.num_agents = N\n",
        "        self.grid = MultiGrid(width, height, True)\n",
        "        self.schedule = RandomActivation(self)\n",
        "        # Create agents\n",
        "        for i in range(self.num_agents):\n",
        "            a = RiderAgent(i, self)\n",
        "            self.schedule.add(a)\n",
        "\n",
        "             # Add the agent to a random grid cell\n",
        "            x = self.random.randrange(self.grid.width)\n",
        "            y = self.random.randrange(self.grid.height)\n",
        "            self.grid.place_agent(a, (x, y))\n",
        "\n",
        "        self.datacollector = DataCollector(\n",
        "            model_reporters={\"Infection\": compute_infection},\n",
        "            agent_reporters={\"Health\": \"healthStat\"})\n",
        "\n",
        "    def step(self):\n",
        "        '''Advance the model by one step.'''\n",
        "        self.datacollector.collect(self)\n",
        "        self.schedule.step()\n"
      ],
      "execution_count": null,
      "outputs": []
    },
    {
      "cell_type": "code",
      "metadata": {
        "id": "PaBdRn9xVw8G",
        "colab_type": "code",
        "colab": {}
      },
      "source": [
        "model = RiderModel(1000, 50, 50)\n",
        "for i in range(100):\n",
        "  model.step()\n"
      ],
      "execution_count": null,
      "outputs": []
    },
    {
      "cell_type": "code",
      "metadata": {
        "id": "TlOTRDfiWMTf",
        "colab_type": "code",
        "colab": {
          "base_uri": "https://localhost:8080/",
          "height": 265
        },
        "outputId": "90407d1f-e703-452e-f24d-66427e20bf62"
      },
      "source": [
        "# The below is needed for both notebooks and scripts\n",
        "import matplotlib.pyplot as plt\n",
        "\n",
        "# For jupyter notebook add the following line:\n",
        "%matplotlib inline\n",
        "\n",
        "agent_wealth = [a.wealth for a in model.schedule.agents]\n",
        "plt.hist(agent_wealth)\n",
        "#For a script add the following line\n",
        "plt.show()"
      ],
      "execution_count": null,
      "outputs": [
        {
          "output_type": "display_data",
          "data": {
            "image/png": "[encoded data removed]",
            "text/plain": [
              "<Figure size 432x288 with 1 Axes>"
            ]
          },
          "metadata": {
            "tags": [],
            "needs_background": "light"
          }
        }
      ]
    },
    {
      "cell_type": "code",
      "metadata": {
        "id": "QlOe54gIkqO5",
        "colab_type": "code",
        "colab": {
          "base_uri": "https://localhost:8080/",
          "height": 286
        },
        "outputId": "17c77b13-f7bf-41fa-d673-145bb6b62bff"
      },
      "source": [
        "import numpy as np\n",
        "\n",
        "agent_counts = np.zeros((model.grid.width, model.grid.height))\n",
        "for cell in model.grid.coord_iter():\n",
        "    cell_content, x, y = cell\n",
        "    agent_count = len(cell_content)\n",
        "    agent_counts[x][y] = agent_count\n",
        "plt.imshow(agent_counts, interpolation='nearest')\n",
        "plt.colorbar()"
      ],
      "execution_count": null,
      "outputs": [
        {
          "output_type": "execute_result",
          "data": {
            "text/plain": [
              "<matplotlib.colorbar.Colorbar at 0x7f7570546240>"
            ]
          },
          "metadata": {
            "tags": []
          },
          "execution_count": 13
        },
        {
          "output_type": "display_data",
          "data": {
            "image/png": "[encoded data removed]",
            "text/plain": [
              "<Figure size 432x288 with 2 Axes>"
            ]
          },
          "metadata": {
            "tags": [],
            "needs_background": "light"
          }
        }
      ]
    },
    {
      "cell_type": "code",
      "metadata": {
        "id": "g6xnQ5QgsYRr",
        "colab_type": "code",
        "colab": {
          "base_uri": "https://localhost:8080/",
          "height": 233
        },
        "outputId": "06380164-c7c1-4afb-b6e5-8de99f36b882"
      },
      "source": [
        "agent_health = model.datacollector.get_agent_vars_dataframe()\n",
        "agent_health.head()"
      ],
      "execution_count": null,
      "outputs": [
        {
          "output_type": "execute_result",
          "data": {
            "text/html": [
              "<div>\n",
              "<style scoped>\n",
              "    .dataframe tbody tr th:only-of-type {\n",
              "        vertical-align: middle;\n",
              "    }\n",
              "\n",
              "    .dataframe tbody tr th {\n",
              "        vertical-align: top;\n",
              "    }\n",
              "\n",
              "    .dataframe thead th {\n",
              "        text-align: right;\n",
              "    }\n",
              "</style>\n",
              "<table border=\"1\" class=\"dataframe\">\n",
              "  <thead>\n",
              "    <tr style=\"text-align: right;\">\n",
              "      <th></th>\n",
              "      <th></th>\n",
              "      <th>Health</th>\n",
              "    </tr>\n",
              "    <tr>\n",
              "      <th>Step</th>\n",
              "      <th>AgentID</th>\n",
              "      <th></th>\n",
              "    </tr>\n",
              "  </thead>\n",
              "  <tbody>\n",
              "    <tr>\n",
              "      <th rowspan=\"5\" valign=\"top\">0</th>\n",
              "      <th>0</th>\n",
              "      <td>Healthy</td>\n",
              "    </tr>\n",
              "    <tr>\n",
              "      <th>1</th>\n",
              "      <td>Healthy</td>\n",
              "    </tr>\n",
              "    <tr>\n",
              "      <th>2</th>\n",
              "      <td>Healthy</td>\n",
              "    </tr>\n",
              "    <tr>\n",
              "      <th>3</th>\n",
              "      <td>Healthy</td>\n",
              "    </tr>\n",
              "    <tr>\n",
              "      <th>4</th>\n",
              "      <td>Healthy</td>\n",
              "    </tr>\n",
              "  </tbody>\n",
              "</table>\n",
              "</div>"
            ],
            "text/plain": [
              "               Health\n",
              "Step AgentID         \n",
              "0    0        Healthy\n",
              "     1        Healthy\n",
              "     2        Healthy\n",
              "     3        Healthy\n",
              "     4        Healthy"
            ]
          },
          "metadata": {
            "tags": []
          },
          "execution_count": 14
        }
      ]
    },
    {
      "cell_type": "code",
      "metadata": {
        "id": "pj02yakVuSpF",
        "colab_type": "code",
        "colab": {
          "base_uri": "https://localhost:8080/",
          "height": 282
        },
        "outputId": "b3232c30-0795-4e23-bf3f-bec7f4dc08e7"
      },
      "source": [
        "infection = model.datacollector.get_model_vars_dataframe()\n",
        "infection.plot()"
      ],
      "execution_count": null,
      "outputs": [
        {
          "output_type": "execute_result",
          "data": {
            "text/plain": [
              "<matplotlib.axes._subplots.AxesSubplot at 0x7f75703b18d0>"
            ]
          },
          "metadata": {
            "tags": []
          },
          "execution_count": 16
        },
        {
          "output_type": "display_data",
          "data": {
            "image/png": "[encoded data removed]",
            "text/plain": [
              "<Figure size 432x288 with 1 Axes>"
            ]
          },
          "metadata": {
            "tags": [],
            "needs_background": "light"
          }
        }
      ]
    }
  ]
}