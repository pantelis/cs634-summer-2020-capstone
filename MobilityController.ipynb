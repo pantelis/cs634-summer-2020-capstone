{
  "nbformat": 4,
  "nbformat_minor": 0,
  "metadata": {
    "colab": {
      "name": "MobilityController.ipynb",
      "provenance": [],
      "collapsed_sections": []
    },
    "kernelspec": {
      "name": "python3",
      "display_name": "Python 3"
    }
  },
  "cells": [
    {
      "cell_type": "markdown",
      "metadata": {
        "id": "zzX8Wk2D3kvx",
        "colab_type": "text"
      },
      "source": [
        "# Mobility Controller Module\n",
        "#### CS634 Summer 2020\n",
        "#### by Aman Sinha, Mark Bentivegna, Kirsten Schulz and Srishti Karakoti"
      ]
    },
    {
      "cell_type": "markdown",
      "metadata": {
        "id": "695ulIdk3_tP",
        "colab_type": "text"
      },
      "source": [
        "Our project discusses about a design that can smartly control overcrowding of people in popular places without prohibiting people’s mobility. Our primary responsibilities is to try “flattening the curve”.\n",
        "<br>\n",
        "The main project has been divided into four components - Spatial Mobility Model (SMM), Epidemiological Model (EMM), the Agent Based Modeling (ABM), the Mobility Controller (ours). \n",
        "1.\tMobility Model - Read in mobility data and generate spatial model of NYC and simulate trips that people might take.\n",
        "<br>\n",
        "2. Agent Based Model Simulation - Receive sample trips from mobility model and maintain state of citizens taking trips (sick, healthy, etc.) which will come from epidemiological model.\n",
        "<br>\n",
        "3. Epidemiological Model - Models agents and movements with regards to health/sickness under variety of simulations to explore strategies of \"flattening the curve\".\n",
        "<br>\n",
        "4. Mobility Controller - Receives booking requests from agent-based model simulation and ultimately decides whether or not a trip is safe to make. Confirmation/rejection is passed to agent-based model simulation. Also an alternative time will be given if that block reached maximum capacity. Also our policy should be fair to all agents - no agent should be allowed to cheat and receive consecutive booking confirmations. "
      ]
    },
    {
      "cell_type": "markdown",
      "metadata": {
        "id": "U9wNUBkn-WnZ",
        "colab_type": "text"
      },
      "source": [
        "### Interfaces \n",
        "We use practically batch datasets. \n",
        "As input we are using a generic simulation.csv file. It is a daily file. What it means, it is one day of request and cancelations, it has only the hour. It has a small limitation: If the slot 23 is full, booking must go into next day batch file. Also we can not check in this process if the person that is booking for hour zero has already booked in the previous day. We listed this issue in the to do list as possible future task for later groups and if the process becomes on line that will be adressed much easier.\n",
        "<br> Simulation.csv Fields:\n",
        "<br>hour - desire time\n",
        "<br>pickup_grid_number - a block from a list of 2500\n",
        "<br>dropoff_grid_number - a block from a list of 2500\n",
        "<br>user_id - agent id\n",
        "<br>state - generic fields, we selected states in the follewing way. 0 is used as booking,  1 as cancelation and we ignore the rest\n",
        "<br>\n",
        "As output we have a confirmation.csv file.\n",
        "<br>Confirmation.csv Fields:\n",
        "<br>code - 0 for allowed, 1 for rebooked, -1 for denied, -2 for when the 23rd slot is full (limitation), and -3 cancelled booking. File is per day.\n",
        "<br>agent_id \n",
        "<br>hour - n ∈ [0,23] when trip was allowed, -1 no assigned time, and 25 must go in next day (another file). \n",
        "\n",
        "\n"
      ]
    },
    {
      "cell_type": "markdown",
      "metadata": {
        "id": "F1PbBDzkh5rf",
        "colab_type": "text"
      },
      "source": [
        "### Methodology\n",
        "To guide us we followed Professor Pantelis comments: “The human density you have across Manhattan can be represented as a sequence of matrices across time (1h intervals is giving you 24 matrices). You have matrices that one zone is a hotspot in some and others that are not even if your policy is “do nothing”. So lets assume now that you have a model and you draw trips from then a sufficient simulation interval of 1h you will be matching the raw data you model considered to begin with for that interval. For that 1h interval the controller lets assume that does *not* know the model and therefore cant a priori design a policy. There are controllers that are model-based but lets not go there in this project. The only thing that it will do then, it will start accepting all trips initially until a certain level of number of drop offs (maximum number of bookings for the destination also known as capacity threshold) and it will rebook the trip to another time slot confirming it for that slot only. The rebooking may cause the agent to cancel the confirmed rebooked trip. The state that you keep is the booking and rebookings you have confirmed minus the cancellations so you know your leftover capacity.”  "
      ]
    },
    {
      "cell_type": "markdown",
      "metadata": {
        "id": "25JNdUMH-Esp",
        "colab_type": "text"
      },
      "source": [
        "###Structures and constants\n",
        "\n"
      ]
    },
    {
      "cell_type": "markdown",
      "metadata": {
        "id": "uuqoGs57IRZf",
        "colab_type": "text"
      },
      "source": [
        "#### Internal structure\n",
        "Simulation dataset has been reduced to 2500 blocks (geographical locations) for practicality purposes. We could even use the 260 Manhattan blocks but each one has a geographical locations. We have a vector of 2500 positions that contains the threshold per block. Some blocks will have the threshold \"DO_NOTHING_BLOCK\". The other structure is 3D, a combination of an array of 2500x24 hours and a list of users.\n",
        "#### Constants:\n",
        "BOOKING = 0\n",
        "<BR>CANCELATION = 1\n",
        "<BR>ALLOWED = 0 \n",
        "<BR>REBOOKED = 1\n",
        "<BR>DENIED = -1\n",
        "<BR>DAY_IS_FULL = -2\n",
        "<BR>CANCELLED_BOOKING = -3\n",
        "<BR>NEXT_DAY_HOUR_CODE = 25\n",
        "<BR>NO_ASSIGN_HOUR = -1\n",
        "<br>DO_NOTHING_BLOCK = 0\n",
        "<br>PATH_INPUT (must be adjusted according to the environment)\n",
        "<br>PATH_OUTPUT (must be adjusted according to the environment)\n",
        "<br>PATH_INPUT_check (must be adjusted according to the environment)"
      ]
    },
    {
      "cell_type": "code",
      "metadata": {
        "id": "5YqlZJW-RXx2",
        "colab_type": "code",
        "colab": {}
      },
      "source": [
        "import numpy as np\n",
        "import pandas as pd\n",
        "import math"
      ],
      "execution_count": null,
      "outputs": []
    },
    {
      "cell_type": "code",
      "metadata": {
        "id": "bgglJG-3eFcH",
        "colab_type": "code",
        "colab": {}
      },
      "source": [
        "\n",
        "# We will use a general simulation file named simulation.csv\n",
        "# we will extract the information we need from it and format the data to\n",
        "# our purposes The simulation file is a daily file as you will see. It only\n",
        "# has the hour for time. It has a small limitation: If the slot 23 is full, booking must go into \n",
        "# next day batch file. Also we can not check in this process if the person is booking for hour zero \n",
        "# and has already booked in the previous day. \n",
        "PATH_INPUT = \"/content/drive/My Drive/Colab Notebooks/NYC_sim_/simulation.csv\"\n",
        "df = pd.read_csv(PATH_INPUT)\n",
        "\n"
      ],
      "execution_count": null,
      "outputs": []
    },
    {
      "cell_type": "code",
      "metadata": {
        "id": "E7v0TGNVo6P1",
        "colab_type": "code",
        "colab": {
          "base_uri": "https://localhost:8080/",
          "height": 435
        },
        "outputId": "e9c0543e-e67b-41db-f2cc-e1cd7d3eda83"
      },
      "source": [
        "print(df.dtypes)\n",
        "print(df.describe())\n",
        "df.shape"
      ],
      "execution_count": null,
      "outputs": [
        {
          "output_type": "stream",
          "text": [
            "hour                     int64\n",
            "pickup_grid_number     float64\n",
            "dropoff_grid_number    float64\n",
            "user_id                  int64\n",
            "state                  float64\n",
            "dtype: object\n",
            "               hour  pickup_grid_number  ...       user_id         state\n",
            "count  4.044144e+06        4.044144e+06  ...  4.044144e+06  4.044144e+06\n",
            "mean   1.359588e+01        3.560740e+02  ...  2.022072e+06  2.999997e-01\n",
            "std    6.457568e+00        2.751702e+02  ...  1.167444e+06  6.403123e-01\n",
            "min    0.000000e+00        1.000000e+00  ...  0.000000e+00  0.000000e+00\n",
            "25%    9.000000e+00        1.440000e+02  ...  1.011036e+06  0.000000e+00\n",
            "50%    1.400000e+01        2.970000e+02  ...  2.022072e+06  0.000000e+00\n",
            "75%    1.900000e+01        5.000000e+02  ...  3.033107e+06  0.000000e+00\n",
            "max    2.300000e+01        2.500000e+03  ...  4.044143e+06  2.000000e+00\n",
            "\n",
            "[8 rows x 5 columns]\n"
          ],
          "name": "stdout"
        },
        {
          "output_type": "execute_result",
          "data": {
            "text/plain": [
              "(4044144, 5)"
            ]
          },
          "metadata": {
            "tags": []
          },
          "execution_count": 5
        }
      ]
    },
    {
      "cell_type": "code",
      "metadata": {
        "id": "OimC_uTTpQlL",
        "colab_type": "code",
        "colab": {}
      },
      "source": [
        "# convert fields to integer as needed\n",
        "# simulation file has data for other groups; \n",
        "# so we remove it in here too\n",
        "df = df[df.state<2]\n",
        "df = df.iloc[::5, :]\n",
        "df[\"state\"] = df[\"state\"]. astype(int)\n",
        "df[\"pickup_grid_number\"] = df[\"pickup_grid_number\"]. astype(int)\n",
        "df[\"dropoff_grid_number\"] = df[\"dropoff_grid_number\"]. astype(int)\n"
      ],
      "execution_count": null,
      "outputs": []
    },
    {
      "cell_type": "code",
      "metadata": {
        "id": "txl5IDfau8gl",
        "colab_type": "code",
        "colab": {
          "base_uri": "https://localhost:8080/",
          "height": 435
        },
        "outputId": "29556e32-1fae-4f84-f77e-3a0c73d5d7b5"
      },
      "source": [
        "print(df.dtypes)\n",
        "print(df.describe())\n",
        "print(df.shape)"
      ],
      "execution_count": null,
      "outputs": [
        {
          "output_type": "stream",
          "text": [
            "hour                   int64\n",
            "pickup_grid_number     int64\n",
            "dropoff_grid_number    int64\n",
            "user_id                int64\n",
            "state                  int64\n",
            "dtype: object\n",
            "                hour  pickup_grid_number  ...       user_id          state\n",
            "count  727946.000000       727946.000000  ...  7.279460e+05  727946.000000\n",
            "mean       13.595893          355.876735  ...  2.022027e+06       0.111305\n",
            "std         6.457161          275.336569  ...  1.167379e+06       0.314510\n",
            "min         0.000000            1.000000  ...  0.000000e+00       0.000000\n",
            "25%         9.000000          144.000000  ...  1.011196e+06       0.000000\n",
            "50%        14.000000          296.000000  ...  2.021883e+06       0.000000\n",
            "75%        19.000000          504.000000  ...  3.033110e+06       0.000000\n",
            "max        23.000000         2500.000000  ...  4.044139e+06       1.000000\n",
            "\n",
            "[8 rows x 5 columns]\n",
            "(727946, 5)\n"
          ],
          "name": "stdout"
        }
      ]
    },
    {
      "cell_type": "code",
      "metadata": {
        "id": "0yTmM9ilwyrq",
        "colab_type": "code",
        "colab": {
          "base_uri": "https://localhost:8080/",
          "height": 321
        },
        "outputId": "d4a6fe7a-3ad3-463a-82e8-ebcccd9ace35"
      },
      "source": [
        "df.head()"
      ],
      "execution_count": null,
      "outputs": [
        {
          "output_type": "execute_result",
          "data": {
            "text/html": [
              "<div>\n",
              "<style scoped>\n",
              "    .dataframe tbody tr th:only-of-type {\n",
              "        vertical-align: middle;\n",
              "    }\n",
              "\n",
              "    .dataframe tbody tr th {\n",
              "        vertical-align: top;\n",
              "    }\n",
              "\n",
              "    .dataframe thead th {\n",
              "        text-align: right;\n",
              "    }\n",
              "</style>\n",
              "<table border=\"1\" class=\"dataframe\">\n",
              "  <thead>\n",
              "    <tr style=\"text-align: right;\">\n",
              "      <th></th>\n",
              "      <th>hour</th>\n",
              "      <th>pickup_grid_number</th>\n",
              "      <th>dropoff_grid_number</th>\n",
              "      <th>user_id</th>\n",
              "      <th>state</th>\n",
              "    </tr>\n",
              "  </thead>\n",
              "  <tbody>\n",
              "    <tr>\n",
              "      <th>0</th>\n",
              "      <td>0</td>\n",
              "      <td>115</td>\n",
              "      <td>60</td>\n",
              "      <td>0</td>\n",
              "      <td>0</td>\n",
              "    </tr>\n",
              "    <tr>\n",
              "      <th>5</th>\n",
              "      <td>0</td>\n",
              "      <td>533</td>\n",
              "      <td>312</td>\n",
              "      <td>5</td>\n",
              "      <td>0</td>\n",
              "    </tr>\n",
              "    <tr>\n",
              "      <th>10</th>\n",
              "      <td>0</td>\n",
              "      <td>264</td>\n",
              "      <td>144</td>\n",
              "      <td>10</td>\n",
              "      <td>1</td>\n",
              "    </tr>\n",
              "    <tr>\n",
              "      <th>15</th>\n",
              "      <td>0</td>\n",
              "      <td>152</td>\n",
              "      <td>21</td>\n",
              "      <td>15</td>\n",
              "      <td>0</td>\n",
              "    </tr>\n",
              "    <tr>\n",
              "      <th>20</th>\n",
              "      <td>0</td>\n",
              "      <td>308</td>\n",
              "      <td>18</td>\n",
              "      <td>20</td>\n",
              "      <td>0</td>\n",
              "    </tr>\n",
              "  </tbody>\n",
              "</table>\n",
              "</div>"
            ],
            "text/plain": [
              "    hour  pickup_grid_number  dropoff_grid_number  user_id  state\n",
              "0      0                 115                   60        0      0\n",
              "5      0                 533                  312        5      0\n",
              "10     0                 264                  144       10      1\n",
              "15     0                 152                   21       15      0\n",
              "20     0                 308                   18       20      0"
            ]
          },
          "metadata": {
            "tags": []
          },
          "execution_count": 8
        }
      ]
    },
    {
      "cell_type": "code",
      "metadata": {
        "id": "cvAgn6t0f7sN",
        "colab_type": "code",
        "colab": {
          "base_uri": "https://localhost:8080/",
          "height": 321
        },
        "outputId": "2eea38f6-509f-46fc-cd3d-ea4c77c52c0a"
      },
      "source": [
        "df.tail()"
      ],
      "execution_count": null,
      "outputs": [
        {
          "output_type": "execute_result",
          "data": {
            "text/html": [
              "<div>\n",
              "<style scoped>\n",
              "    .dataframe tbody tr th:only-of-type {\n",
              "        vertical-align: middle;\n",
              "    }\n",
              "\n",
              "    .dataframe tbody tr th {\n",
              "        vertical-align: top;\n",
              "    }\n",
              "\n",
              "    .dataframe thead th {\n",
              "        text-align: right;\n",
              "    }\n",
              "</style>\n",
              "<table border=\"1\" class=\"dataframe\">\n",
              "  <thead>\n",
              "    <tr style=\"text-align: right;\">\n",
              "      <th></th>\n",
              "      <th>hour</th>\n",
              "      <th>pickup_grid_number</th>\n",
              "      <th>dropoff_grid_number</th>\n",
              "      <th>user_id</th>\n",
              "      <th>state</th>\n",
              "    </tr>\n",
              "  </thead>\n",
              "  <tbody>\n",
              "    <tr>\n",
              "      <th>4044116</th>\n",
              "      <td>23</td>\n",
              "      <td>78</td>\n",
              "      <td>504</td>\n",
              "      <td>4044116</td>\n",
              "      <td>0</td>\n",
              "    </tr>\n",
              "    <tr>\n",
              "      <th>4044121</th>\n",
              "      <td>23</td>\n",
              "      <td>36</td>\n",
              "      <td>198</td>\n",
              "      <td>4044121</td>\n",
              "      <td>0</td>\n",
              "    </tr>\n",
              "    <tr>\n",
              "      <th>4044126</th>\n",
              "      <td>23</td>\n",
              "      <td>234</td>\n",
              "      <td>520</td>\n",
              "      <td>4044126</td>\n",
              "      <td>1</td>\n",
              "    </tr>\n",
              "    <tr>\n",
              "      <th>4044132</th>\n",
              "      <td>23</td>\n",
              "      <td>160</td>\n",
              "      <td>1349</td>\n",
              "      <td>4044132</td>\n",
              "      <td>0</td>\n",
              "    </tr>\n",
              "    <tr>\n",
              "      <th>4044139</th>\n",
              "      <td>23</td>\n",
              "      <td>300</td>\n",
              "      <td>799</td>\n",
              "      <td>4044139</td>\n",
              "      <td>0</td>\n",
              "    </tr>\n",
              "  </tbody>\n",
              "</table>\n",
              "</div>"
            ],
            "text/plain": [
              "         hour  pickup_grid_number  dropoff_grid_number  user_id  state\n",
              "4044116    23                  78                  504  4044116      0\n",
              "4044121    23                  36                  198  4044121      0\n",
              "4044126    23                 234                  520  4044126      1\n",
              "4044132    23                 160                 1349  4044132      0\n",
              "4044139    23                 300                  799  4044139      0"
            ]
          },
          "metadata": {
            "tags": []
          },
          "execution_count": 9
        }
      ]
    },
    {
      "cell_type": "code",
      "metadata": {
        "id": "yazvpDvczE0k",
        "colab_type": "code",
        "colab": {
          "base_uri": "https://localhost:8080/",
          "height": 533
        },
        "outputId": "101638ee-cbee-484b-df22-81715233a74f"
      },
      "source": [
        "# Let's sort array per hour then by state\n",
        "df.sort_values(by=['hour', 'state'])"
      ],
      "execution_count": null,
      "outputs": [
        {
          "output_type": "execute_result",
          "data": {
            "text/html": [
              "<div>\n",
              "<style scoped>\n",
              "    .dataframe tbody tr th:only-of-type {\n",
              "        vertical-align: middle;\n",
              "    }\n",
              "\n",
              "    .dataframe tbody tr th {\n",
              "        vertical-align: top;\n",
              "    }\n",
              "\n",
              "    .dataframe thead th {\n",
              "        text-align: right;\n",
              "    }\n",
              "</style>\n",
              "<table border=\"1\" class=\"dataframe\">\n",
              "  <thead>\n",
              "    <tr style=\"text-align: right;\">\n",
              "      <th></th>\n",
              "      <th>hour</th>\n",
              "      <th>pickup_grid_number</th>\n",
              "      <th>dropoff_grid_number</th>\n",
              "      <th>user_id</th>\n",
              "      <th>state</th>\n",
              "    </tr>\n",
              "  </thead>\n",
              "  <tbody>\n",
              "    <tr>\n",
              "      <th>0</th>\n",
              "      <td>0</td>\n",
              "      <td>115</td>\n",
              "      <td>60</td>\n",
              "      <td>0</td>\n",
              "      <td>0</td>\n",
              "    </tr>\n",
              "    <tr>\n",
              "      <th>5</th>\n",
              "      <td>0</td>\n",
              "      <td>533</td>\n",
              "      <td>312</td>\n",
              "      <td>5</td>\n",
              "      <td>0</td>\n",
              "    </tr>\n",
              "    <tr>\n",
              "      <th>15</th>\n",
              "      <td>0</td>\n",
              "      <td>152</td>\n",
              "      <td>21</td>\n",
              "      <td>15</td>\n",
              "      <td>0</td>\n",
              "    </tr>\n",
              "    <tr>\n",
              "      <th>20</th>\n",
              "      <td>0</td>\n",
              "      <td>308</td>\n",
              "      <td>18</td>\n",
              "      <td>20</td>\n",
              "      <td>0</td>\n",
              "    </tr>\n",
              "    <tr>\n",
              "      <th>26</th>\n",
              "      <td>0</td>\n",
              "      <td>182</td>\n",
              "      <td>408</td>\n",
              "      <td>26</td>\n",
              "      <td>0</td>\n",
              "    </tr>\n",
              "    <tr>\n",
              "      <th>...</th>\n",
              "      <td>...</td>\n",
              "      <td>...</td>\n",
              "      <td>...</td>\n",
              "      <td>...</td>\n",
              "      <td>...</td>\n",
              "    </tr>\n",
              "    <tr>\n",
              "      <th>4043826</th>\n",
              "      <td>23</td>\n",
              "      <td>42</td>\n",
              "      <td>104</td>\n",
              "      <td>4043826</td>\n",
              "      <td>1</td>\n",
              "    </tr>\n",
              "    <tr>\n",
              "      <th>4043880</th>\n",
              "      <td>23</td>\n",
              "      <td>342</td>\n",
              "      <td>100</td>\n",
              "      <td>4043880</td>\n",
              "      <td>1</td>\n",
              "    </tr>\n",
              "    <tr>\n",
              "      <th>4043894</th>\n",
              "      <td>23</td>\n",
              "      <td>261</td>\n",
              "      <td>1037</td>\n",
              "      <td>4043894</td>\n",
              "      <td>1</td>\n",
              "    </tr>\n",
              "    <tr>\n",
              "      <th>4044111</th>\n",
              "      <td>23</td>\n",
              "      <td>550</td>\n",
              "      <td>672</td>\n",
              "      <td>4044111</td>\n",
              "      <td>1</td>\n",
              "    </tr>\n",
              "    <tr>\n",
              "      <th>4044126</th>\n",
              "      <td>23</td>\n",
              "      <td>234</td>\n",
              "      <td>520</td>\n",
              "      <td>4044126</td>\n",
              "      <td>1</td>\n",
              "    </tr>\n",
              "  </tbody>\n",
              "</table>\n",
              "<p>727946 rows × 5 columns</p>\n",
              "</div>"
            ],
            "text/plain": [
              "         hour  pickup_grid_number  dropoff_grid_number  user_id  state\n",
              "0           0                 115                   60        0      0\n",
              "5           0                 533                  312        5      0\n",
              "15          0                 152                   21       15      0\n",
              "20          0                 308                   18       20      0\n",
              "26          0                 182                  408       26      0\n",
              "...       ...                 ...                  ...      ...    ...\n",
              "4043826    23                  42                  104  4043826      1\n",
              "4043880    23                 342                  100  4043880      1\n",
              "4043894    23                 261                 1037  4043894      1\n",
              "4044111    23                 550                  672  4044111      1\n",
              "4044126    23                 234                  520  4044126      1\n",
              "\n",
              "[727946 rows x 5 columns]"
            ]
          },
          "metadata": {
            "tags": []
          },
          "execution_count": 10
        }
      ]
    },
    {
      "cell_type": "code",
      "metadata": {
        "id": "NAqEbPYqxDKg",
        "colab_type": "code",
        "colab": {}
      },
      "source": [
        "# structure is a cobination of 2d array + lists.\n",
        "block_hour = np.empty((2500,24),dtype=np.ndarray)\n",
        "for i in range(2500):\n",
        "    for j in range(24):\n",
        "      block_hour[i][j]=[]"
      ],
      "execution_count": null,
      "outputs": []
    },
    {
      "cell_type": "code",
      "metadata": {
        "id": "qg2xHUXp3FvH",
        "colab_type": "code",
        "colab": {}
      },
      "source": [
        "# we need to assign random thresholds for each block. \n",
        "DO_NOTHING_BLOCK = 0\n",
        "threshold = np.random.randint(low=0, high=800_000/2500, size=(2500))\n",
        "threshold[np.random.randint(1,2500,size=1250)] = DO_NOTHING_BLOCK"
      ],
      "execution_count": null,
      "outputs": []
    },
    {
      "cell_type": "code",
      "metadata": {
        "id": "RVpumULePbHa",
        "colab_type": "code",
        "colab": {}
      },
      "source": [
        "# manhattan dimentions is 13.4 miles length and 2.3 miles width, the biggest distance is its diagonal\n",
        "c = int(math.sqrt(13.4**2 + 2.3**2))\n"
      ],
      "execution_count": null,
      "outputs": []
    },
    {
      "cell_type": "code",
      "metadata": {
        "id": "X-o5m4gI-yYq",
        "colab_type": "code",
        "colab": {}
      },
      "source": [
        "BOOKING = 0\n",
        "CANCELATION = 1\n",
        "ALLOWED = 0\n",
        "REBOOKED = 1\n",
        "DENIED = -1\n",
        "DAY_IS_FULL = -2\n",
        "CANCELLED_BOOKING = -3\n",
        "NEXT_DAY_HOUR_CODE = 25\n",
        "NO_ASSIGN_HOUR = -1\n",
        "codes=[]\n",
        "ids=[]\n",
        "hours=[]\n",
        "# we will be looking only a dropoff for controlling mobility\n",
        "for index, row in df.iterrows():\n",
        "    dropoff_grid_number = row[\"dropoff_grid_number\"] - 1\n",
        "    if (threshold[dropoff_grid_number]== DO_NOTHING_BLOCK):  \n",
        "        continue\n",
        "    # fake distance, the blocks do not reflex any geographical positions; \n",
        "    # we may as well use a random generator to get the detached distance\n",
        "    d = np.random.uniform(0,c)\n",
        "    if (d <= 1):\n",
        "        continue\n",
        "    if (row['state']==CANCELATION):\n",
        "        if (len(block_hour[dropoff_grid_number][row[\"hour\"]]) != 0):\n",
        "            if row[\"user_id\"] in block_hour[dropoff_grid_number][row[\"hour\"]]:\n",
        "                block_hour[dropoff_grid_number][row[\"hour\"]].remove(row[\"user_id\"])\n",
        "                codes.append(CANCELLED_BOOKING)\n",
        "                ids.append(row[\"user_id\"]) \n",
        "                hours.append(NO_ASSIGN_HOUR) \n",
        "               \n",
        "    elif (row['state']==BOOKING):\n",
        "        if (row[\"hour\"]!=0):\n",
        "            if row[\"user_id\"] in block_hour[dropoff_grid_number][row[\"hour\"]-1]:\n",
        "                codes.append(DENIED)\n",
        "                ids.append(row[\"user_id\"]) \n",
        "                hours.append(NO_ASSIGN_HOUR) \n",
        "            \n",
        "        code = DAY_IS_FULL\n",
        "        for h in range(row[\"hour\"],24):\n",
        "            if (len(block_hour[dropoff_grid_number][h]) < \n",
        "                      threshold[dropoff_grid_number]):\n",
        "                (block_hour[dropoff_grid_number][h]).append (row[\"user_id\"])\n",
        "                if (h == row[\"hour\"]):\n",
        "                  code = ALLOWED\n",
        "                else:\n",
        "                  code = REBOOKED \n",
        "                codes.append(code)\n",
        "                ids.append(row[\"user_id\"])\n",
        "                hours.append(h)\n",
        "                break\n",
        "        if (code==DAY_IS_FULL): \n",
        "            codes.append(code)\n",
        "            ids.append(row[\"user_id\"])\n",
        "            hours.append(NEXT_DAY_HOUR_CODE)          \n",
        "    else:\n",
        "        continue\n",
        "                                        \n",
        "    "
      ],
      "execution_count": null,
      "outputs": []
    },
    {
      "cell_type": "code",
      "metadata": {
        "id": "C9e46bmf0jMU",
        "colab_type": "code",
        "colab": {
          "base_uri": "https://localhost:8080/",
          "height": 154
        },
        "outputId": "6c909924-11ca-4159-e35e-267e40eedab0"
      },
      "source": [
        "\n",
        "PATH_OUTPUT = \"/content/drive/My Drive/Colab Notebooks/NYC_sim_/confirmations.csv\"\n",
        "\n",
        "\n",
        "df_out = pd.DataFrame(codes, columns=['code'])\n",
        "df_out['agent_id'] = ids\n",
        "df_out['hour'] = hours\n",
        "df_out[['code','agent_id','hour']].to_csv((PATH_OUTPUT), index=False)\n",
        "print('output done')\n"
      ],
      "execution_count": null,
      "outputs": [
        {
          "output_type": "stream",
          "text": [
            "output done\n"
          ],
          "name": "stdout"
        }
      ]
    },
    {
      "cell_type": "markdown",
      "metadata": {
        "id": "pyCZHFStRbT1",
        "colab_type": "text"
      },
      "source": [
        "#### Self check section\n",
        "To verify if file was created and fields are in order"
      ]
    },
    {
      "cell_type": "code",
      "metadata": {
        "id": "bMLXOHVXA2z7",
        "colab_type": "code",
        "colab": {}
      },
      "source": [
        "PATH_INPUT_check = \"/content/drive/My Drive/Colab Notebooks/NYC_sim_/confirmations.csv\"\n",
        "df_check = pd.read_csv(PATH_INPUT_check)\n"
      ],
      "execution_count": null,
      "outputs": []
    },
    {
      "cell_type": "code",
      "metadata": {
        "id": "2r8Lxiid2YEZ",
        "colab_type": "code",
        "colab": {
          "base_uri": "https://localhost:8080/",
          "height": 321
        },
        "outputId": "cd2c20d0-6ac5-4a48-efaa-05307fc3b469"
      },
      "source": [
        "df_check.head()"
      ],
      "execution_count": null,
      "outputs": [
        {
          "output_type": "execute_result",
          "data": {
            "text/html": [
              "<div>\n",
              "<style scoped>\n",
              "    .dataframe tbody tr th:only-of-type {\n",
              "        vertical-align: middle;\n",
              "    }\n",
              "\n",
              "    .dataframe tbody tr th {\n",
              "        vertical-align: top;\n",
              "    }\n",
              "\n",
              "    .dataframe thead th {\n",
              "        text-align: right;\n",
              "    }\n",
              "</style>\n",
              "<table border=\"1\" class=\"dataframe\">\n",
              "  <thead>\n",
              "    <tr style=\"text-align: right;\">\n",
              "      <th></th>\n",
              "      <th>code</th>\n",
              "      <th>agent_id</th>\n",
              "      <th>hour</th>\n",
              "    </tr>\n",
              "  </thead>\n",
              "  <tbody>\n",
              "    <tr>\n",
              "      <th>0</th>\n",
              "      <td>0</td>\n",
              "      <td>5</td>\n",
              "      <td>0</td>\n",
              "    </tr>\n",
              "    <tr>\n",
              "      <th>1</th>\n",
              "      <td>0</td>\n",
              "      <td>20</td>\n",
              "      <td>0</td>\n",
              "    </tr>\n",
              "    <tr>\n",
              "      <th>2</th>\n",
              "      <td>0</td>\n",
              "      <td>26</td>\n",
              "      <td>0</td>\n",
              "    </tr>\n",
              "    <tr>\n",
              "      <th>3</th>\n",
              "      <td>0</td>\n",
              "      <td>46</td>\n",
              "      <td>0</td>\n",
              "    </tr>\n",
              "    <tr>\n",
              "      <th>4</th>\n",
              "      <td>0</td>\n",
              "      <td>51</td>\n",
              "      <td>0</td>\n",
              "    </tr>\n",
              "  </tbody>\n",
              "</table>\n",
              "</div>"
            ],
            "text/plain": [
              "   code  agent_id  hour\n",
              "0     0         5     0\n",
              "1     0        20     0\n",
              "2     0        26     0\n",
              "3     0        46     0\n",
              "4     0        51     0"
            ]
          },
          "metadata": {
            "tags": []
          },
          "execution_count": 17
        }
      ]
    },
    {
      "cell_type": "code",
      "metadata": {
        "id": "vV3g0CgW2enB",
        "colab_type": "code",
        "colab": {
          "base_uri": "https://localhost:8080/",
          "height": 361
        },
        "outputId": "f715b183-80e6-42c5-8672-03425232d3b2"
      },
      "source": [
        "df_check.tail()"
      ],
      "execution_count": null,
      "outputs": [
        {
          "output_type": "execute_result",
          "data": {
            "text/html": [
              "<div>\n",
              "<style scoped>\n",
              "    .dataframe tbody tr th:only-of-type {\n",
              "        vertical-align: middle;\n",
              "    }\n",
              "\n",
              "    .dataframe tbody tr th {\n",
              "        vertical-align: top;\n",
              "    }\n",
              "\n",
              "    .dataframe thead th {\n",
              "        text-align: right;\n",
              "    }\n",
              "</style>\n",
              "<table border=\"1\" class=\"dataframe\">\n",
              "  <thead>\n",
              "    <tr style=\"text-align: right;\">\n",
              "      <th></th>\n",
              "      <th>code</th>\n",
              "      <th>agent_id</th>\n",
              "      <th>hour</th>\n",
              "    </tr>\n",
              "  </thead>\n",
              "  <tbody>\n",
              "    <tr>\n",
              "      <th>383204</th>\n",
              "      <td>0</td>\n",
              "      <td>4044089</td>\n",
              "      <td>23</td>\n",
              "    </tr>\n",
              "    <tr>\n",
              "      <th>383205</th>\n",
              "      <td>0</td>\n",
              "      <td>4044094</td>\n",
              "      <td>23</td>\n",
              "    </tr>\n",
              "    <tr>\n",
              "      <th>383206</th>\n",
              "      <td>0</td>\n",
              "      <td>4044101</td>\n",
              "      <td>23</td>\n",
              "    </tr>\n",
              "    <tr>\n",
              "      <th>383207</th>\n",
              "      <td>0</td>\n",
              "      <td>4044106</td>\n",
              "      <td>23</td>\n",
              "    </tr>\n",
              "    <tr>\n",
              "      <th>383208</th>\n",
              "      <td>0</td>\n",
              "      <td>4044139</td>\n",
              "      <td>23</td>\n",
              "    </tr>\n",
              "  </tbody>\n",
              "</table>\n",
              "</div>"
            ],
            "text/plain": [
              "        code  agent_id  hour\n",
              "383204     0   4044089    23\n",
              "383205     0   4044094    23\n",
              "383206     0   4044101    23\n",
              "383207     0   4044106    23\n",
              "383208     0   4044139    23"
            ]
          },
          "metadata": {
            "tags": []
          },
          "execution_count": 37
        }
      ]
    },
    {
      "cell_type": "code",
      "metadata": {
        "id": "pfmAnhEN2jZ-",
        "colab_type": "code",
        "colab": {
          "base_uri": "https://localhost:8080/",
          "height": 154
        },
        "outputId": "a4c8c790-851f-47c7-9284-d428a4f65db9"
      },
      "source": [
        "print(df_check.shape)"
      ],
      "execution_count": null,
      "outputs": [
        {
          "output_type": "stream",
          "text": [
            "(348107, 3)\n"
          ],
          "name": "stdout"
        }
      ]
    },
    {
      "cell_type": "markdown",
      "metadata": {
        "id": "PsAmfsa8v_04",
        "colab_type": "text"
      },
      "source": [
        "####Things to do (for new groups):\n",
        "- We started to code in Python this year; the code can be improved for performance and elegance too.\n",
        "- The system should run a connected schedule between days in real life, more than just one day. \n",
        "- System should be made online instead of batch.\n",
        "- The file that we are using is a general purpose simulation file for other group projects too; each user_id is only once in the file; so keys of cancellations are not fully tested for tracing back previous booking but code has a validation to check if the agent_id exists before removing cancelation.\n",
        "- We could also make use of pickups and basic population to have a complete idea of the population\n",
        "- To use real latitude and longitude; then  we can also get the distance in miles or use geo blocks. \n",
        "- A visualization can be added.\n"
      ]
    },
    {
      "cell_type": "markdown",
      "metadata": {
        "id": "pY9GfQ_yfrCq",
        "colab_type": "text"
      },
      "source": [
        "Reference: Some comments in the notebook comes from the project page and the professor.\n"
      ]
    },
    {
      "cell_type": "code",
      "metadata": {
        "id": "BBh8_3J9fshQ",
        "colab_type": "code",
        "colab": {}
      },
      "source": [
        ""
      ],
      "execution_count": null,
      "outputs": []
    }
  ]
}